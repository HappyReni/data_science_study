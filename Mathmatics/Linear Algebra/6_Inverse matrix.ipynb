{
 "cells": [
  {
   "cell_type": "markdown",
   "metadata": {},
   "source": [
    "# **Inverse matrix , column space, null space**"
   ]
  },
  {
   "cell_type": "markdown",
   "metadata": {},
   "source": [
    "### **선형연립방정식(Linear System of Equation)**\n",
    "어떤 벡터가 선형 변환되어 이동하였을 때 원래 벡터의 위치를 찾는 것.\n",
    "\n",
    "$$A\\overrightarrow{x} = \\overrightarrow{v}$$ \n",
    "\n",
    "det(A) != 0 이면 A로 선형 변환을 가했을 때 나오는 벡터는 1개이다. (방정식의 유일한 해)  \n",
    "이 때, 결과 벡터에 역으로 선형 변환을 가하면 원래 벡터를 얻을 수 있는데 이 역 선형 변환 행렬을 **역행렬**이라고 한다.\n",
    "\n",
    "$$A^{-1}A\\overrightarrow{x} = A^{-1}\\overrightarrow{v} => \\overrightarrow{x} = A^{-1}\\overrightarrow{v}$$ \n",
    "\n",
    "det(A) = 0 이면, 차원의 축소가 뭉개져 축소된다. \n",
    "선형 변환한 결과의 차원의 수를 **Rank**라고 한다.  \n",
    "ex) 2차원 행렬로 선형 변환했는데 1차원이 된다면 rank는 1.  \n",
    "\n",
    "기저 벡터가 이루는 선형 결합의 집합을 **column space**라고 한다.\n",
    "즉 rank는 column space의 차원이 된다.\n",
    "\n",
    "ex) 2차원 행렬로 선형 변환했는데 1차원이 된다면 무수한 직선 벡터의 집합이 있고 그것을 column space라고 한다.\n",
    "\n",
    "이 때 차원이 축소되면서 영벡터가 되는 벡터들의 집합을 **null space**라고 한다.\n",
    "\n",
    "$$A = \\begin{bmatrix} 1 & 1 \\\\ 1 & 1  \\end{bmatrix}$$ \n",
    "$$det(A) = 0$$\n",
    "\n",
    "차원 축소가 발생하고, \n",
    "\n",
    "$$\\begin{bmatrix} 1 & 1 \\\\ 1 & 1  \\end{bmatrix}\\begin{bmatrix} 1  \\\\ -1  \\end{bmatrix} = \\begin{bmatrix} 0 \\\\ 0  \\end{bmatrix}$$ \n",
    "$$\\begin{bmatrix} 1 & 1 \\\\ 1 & 1  \\end{bmatrix}\\begin{bmatrix} 2  \\\\ -2  \\end{bmatrix} = \\begin{bmatrix} 0 \\\\ 0  \\end{bmatrix}$$ \n",
    "$$\\begin{bmatrix} 1 & 1 \\\\ 1 & 1  \\end{bmatrix}\\begin{bmatrix} 3  \\\\ -3  \\end{bmatrix} = \\begin{bmatrix} 0 \\\\ 0  \\end{bmatrix}$$ \n",
    "$$...$$\n",
    "\n",
    "위처럼 선형 변환하여 영벡터가 되는 벡터 x는 무수히 많고 이 집합을 null space라고 한다.\n"
   ]
  },
  {
   "cell_type": "markdown",
   "metadata": {},
   "source": []
  },
  {
   "cell_type": "markdown",
   "metadata": {},
   "source": []
  }
 ],
 "metadata": {
  "language_info": {
   "name": "python"
  },
  "orig_nbformat": 4
 },
 "nbformat": 4,
 "nbformat_minor": 2
}
