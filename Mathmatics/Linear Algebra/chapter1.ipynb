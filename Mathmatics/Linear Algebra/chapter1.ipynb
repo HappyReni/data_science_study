{
 "cells": [
  {
   "cell_type": "markdown",
   "metadata": {},
   "source": [
    "# Vectors"
   ]
  },
  {
   "cell_type": "markdown",
   "metadata": {},
   "source": [
    "### 벡터란?\n",
    "\n",
    "순서가 존재하는 숫자의 리스트. \n",
    "$$\\begin{bmatrix} 1.0  \\\\ 2.24  \\end{bmatrix}$$\n",
    "\n",
    "물리학에선 크기와 방향, 컴퓨터 공학에선 리스트, 수학적으로는 덧셈과 곱셈을 하여도 벡터라면 벡터이다. (Closure)  \n",
    "벡터는 평행 이동이 가능하지만 선형대수에서는 시작 부분을 원점으로 둔다. (0,0)  \n",
    "\n",
    "### 벡터의 덧셈 \n",
    "$$\\begin{bmatrix} x_1  \\\\ y_1  \\end{bmatrix} + \\begin{bmatrix} x_2  \\\\ y_2  \\end{bmatrix}  = \\begin{bmatrix} x_3  \\\\ y_3  \\end{bmatrix} $$\n",
    "\n",
    "### 벡터의 스칼라 곱\n",
    "$$ a*\\begin{bmatrix} x  \\\\ y  \\end{bmatrix} = \\begin{bmatrix} ax  \\\\ ay  \\end{bmatrix} $$\n",
    "스칼라를 곱하여 벡터를 줄이거나 늘리는 것을 스케일링이라고도 한다."
   ]
  },
  {
   "cell_type": "markdown",
   "metadata": {},
   "source": []
  }
 ],
 "metadata": {
  "language_info": {
   "name": "python"
  },
  "orig_nbformat": 4
 },
 "nbformat": 4,
 "nbformat_minor": 2
}
