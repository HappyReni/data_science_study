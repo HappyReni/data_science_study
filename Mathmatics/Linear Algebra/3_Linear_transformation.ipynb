{
 "cells": [
  {
   "cell_type": "markdown",
   "metadata": {},
   "source": [
    "# **Linear transformation and matrices**"
   ]
  },
  {
   "cell_type": "markdown",
   "metadata": {},
   "source": [
    "### **선형 변환 (Linear transformation)**\n",
    "좌표 상 공간을 이동시키는 방법.  \n",
    "\"선형\" 이란 이동 후에도 벡터가 직선이고 원점에서 시작해야 함을 의미한다.\n",
    "어떤 벡터가 선형 변환하여 이동하였을 때 이를 기저 벡터의 변환을 통해 해석할 수 있다.  \n",
    "\n",
    "만약 시계 반대 방향으로 45도 선형 변환 한다면 , \n",
    "$$\\overrightarrow{i} = \\begin{bmatrix} 1  \\\\ 0  \\end{bmatrix} => \\begin{bmatrix} 1  \\\\ 1  \\end{bmatrix},\\overrightarrow{j} = \\begin{bmatrix} 0  \\\\ 1  \\end{bmatrix}=> \\begin{bmatrix} -1  \\\\ 1  \\end{bmatrix}$$\n",
    "이 좌표 상에 있던 다른 어떤 벡터는 기저 벡터의 선형 결합으로 표현될 수 있다.\n",
    "$$\\overrightarrow{v} = a\\begin{bmatrix} 1  \\\\ 0  \\end{bmatrix} + b\\begin{bmatrix} 0  \\\\ 1  \\end{bmatrix} => a\\begin{bmatrix} 1  \\\\ 1  \\end{bmatrix} + b\\begin{bmatrix} -1  \\\\ 1  \\end{bmatrix}$$  \n",
    "\n",
    "### **행렬 (Matrix)**\n",
    "x축 기저 벡터와 y축 기저 벡터를 합쳐서 표현한다면,\n",
    "\n",
    "$$\\overrightarrow{m} = \\begin{bmatrix} 1 & -1 \\\\ 1 & 1  \\end{bmatrix}$$\n",
    "\n",
    "이렇게 n개의 행과 열로 표현되는 벡터를 행렬이라고 한다.\n",
    "\n",
    "위의 선형 변환을 행렬을 사용해서 다시 표현한다면,\n",
    "\n",
    "$$\\overrightarrow{v_t} = \\begin{bmatrix} 1 & -1 \\\\ 1 & 1  \\end{bmatrix}v = \\begin{bmatrix} 1 & -1 \\\\ 1 & 1  \\end{bmatrix} \\begin{bmatrix} a \\\\ b \\end{bmatrix} = a\\begin{bmatrix} 1  \\\\ 1  \\end{bmatrix} + b\\begin{bmatrix} -1  \\\\ 1  \\end{bmatrix}$$\n",
    "\n",
    "즉 , 행렬과 벡터의 곱은 어떤 벡터에 선형 변환을 하여 그 **벡터를 공간 이동시키는 것이다**.\n"
   ]
  },
  {
   "cell_type": "markdown",
   "metadata": {},
   "source": []
  }
 ],
 "metadata": {
  "language_info": {
   "name": "python"
  },
  "orig_nbformat": 4
 },
 "nbformat": 4,
 "nbformat_minor": 2
}
