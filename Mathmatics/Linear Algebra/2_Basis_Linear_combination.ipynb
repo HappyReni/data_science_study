{
 "cells": [
  {
   "cell_type": "markdown",
   "metadata": {},
   "source": [
    "# **Linear Combinations, span, basic vectors**"
   ]
  },
  {
   "cell_type": "markdown",
   "metadata": {},
   "source": [
    "### **기저 벡터 (Basis vector)**\n",
    "차원의 축 방향이고 크기는 1인 벡터를 기저 벡터(basis vector), 단위 벡터 등등으로 부른다.\n",
    "\n",
    "$$\\overrightarrow{i} = \\begin{bmatrix} 1  \\\\ 0  \\end{bmatrix}, \\overrightarrow{j} = \\begin{bmatrix} 0  \\\\ 1  \\end{bmatrix}$$  \n",
    "\n",
    "### **선형 결합 (Linear Combination)**\n",
    "모든 벡터는 기저 벡터의 합 , 스칼라 곱으로 표헌 가능하다.  \n",
    "이를 선형 결합이라고 한다.\n",
    "$$\\overrightarrow{v} = a\\overrightarrow{i} + b\\overrightarrow{j}$$  \n",
    "\n",
    "### **Span**\n",
    "벡터 집합의 모든 선형 결합의 집합을 Span이라고 한다.  \n",
    "2차원의 경우 , $$\\overrightarrow{v} = a\\overrightarrow{i} + b\\overrightarrow{j}$$  \n",
    "이 결합은 2차원 평면 상의 모든 벡터를 표시할 수 있다.\n",
    "다만 x와 y가 같은 벡터라면 두 벡터는 공간을 만들 수 없고 이를 **선형 종속** 이라고 한다.\n",
    "\n",
    "3차원일 때 , 선형 결합은 ,\n",
    "$$\\overrightarrow{v} = a\\overrightarrow{i} + b\\overrightarrow{j} + c\\overrightarrow{k}$$\n",
    "\n",
    "이 때, z를 더하여 span이 3차원으로 확장된다면 이는 **선형 독립**이다.\n",
    "즉 , 선형 결합에서 span이 확장된다면 선형 독립이다."
   ]
  },
  {
   "cell_type": "markdown",
   "metadata": {},
   "source": []
  }
 ],
 "metadata": {
  "language_info": {
   "name": "python"
  },
  "orig_nbformat": 4
 },
 "nbformat": 4,
 "nbformat_minor": 2
}
