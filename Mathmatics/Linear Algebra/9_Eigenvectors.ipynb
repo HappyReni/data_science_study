{
 "cells": [
  {
   "cell_type": "markdown",
   "metadata": {},
   "source": [
    "# **Eigenvectors and Eigenvalues**"
   ]
  },
  {
   "cell_type": "markdown",
   "metadata": {},
   "source": [
    "### **고유벡터(Eigenvectors)**\n",
    "선형 변환 시 방향이 변하지 않고 스케일만 변하는 벡터가 있다면 그 벡터를 고유 벡터라고 부른다.  \n",
    "이 때 스케일을 고유값(Eigenvalue) 라고 한다.\n",
    "\n",
    "$$A\\overrightarrow{v}  =  λ\\overrightarrow{v}$$\n",
    "$$A\\overrightarrow{v}  =  λI\\overrightarrow{v}$$ \n",
    "$$(A-λI)\\overrightarrow{v}  = \\overrightarrow{0} $$ \n",
    "\n",
    "만약\n",
    "$$A = \\begin{bmatrix} 1 & 0 \\\\ 2 & 3\\end{bmatrix}$$\n",
    "이라면,\n",
    "$$(A-λI) = \\begin{bmatrix} 1-λ & 0 \\\\ 2 & 3-λ\\end{bmatrix}$$\n",
    "\n",
    "$$det(A-λI) = 0$$\n",
    "\n",
    "을 만족하는 λ가 고유값이다. 따라서,\n",
    "$$(1-λ)(3-λ) = 0, λ=1,3$$\n",
    "\n",
    "$$(A-λI) = \\begin{bmatrix} 0 & 0 \\\\ 2 & 2\\end{bmatrix},\\begin{bmatrix} -2 & 0 \\\\ 2 & 0\\end{bmatrix}$$\n",
    "$$\\overrightarrow{0} = \\begin{bmatrix} 0 & 0 \\\\ 2 & 2\\end{bmatrix}\\overrightarrow{v},\\begin{bmatrix} -2 & 0 \\\\ 2 & 0\\end{bmatrix}\\overrightarrow{v}$$\n",
    "\n",
    "를 만족하는 $$\\overrightarrow{v}$$ 는 고유벡터가 된다.\n",
    "\n"
   ]
  },
  {
   "cell_type": "markdown",
   "metadata": {},
   "source": [
    "\n"
   ]
  }
 ],
 "metadata": {
  "interpreter": {
   "hash": "b2672bbf93573d62efb0a978994b8b68b20fbcabe2dfd191467b8d62c38546a6"
  },
  "kernelspec": {
   "display_name": "Python 3.9.7 ('curvyy')",
   "language": "python",
   "name": "python3"
  },
  "language_info": {
   "codemirror_mode": {
    "name": "ipython",
    "version": 3
   },
   "file_extension": ".py",
   "mimetype": "text/x-python",
   "name": "python",
   "nbconvert_exporter": "python",
   "pygments_lexer": "ipython3",
   "version": "3.9.7"
  },
  "orig_nbformat": 4
 },
 "nbformat": 4,
 "nbformat_minor": 2
}
