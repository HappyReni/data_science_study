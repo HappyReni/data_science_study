{
 "cells": [
  {
   "cell_type": "markdown",
   "metadata": {},
   "source": [
    "# **The determinant**"
   ]
  },
  {
   "cell_type": "markdown",
   "metadata": {},
   "source": [
    "### **행렬식**\n",
    "기저벡터가 이루는 단위 도형 (정사각형, 정육면체)의 (넓이,부피)가 행렬식의 값이다.  \n",
    "벡터를 선형 변환하면 기저벡터 또한 회전 혹은 스케일링 되면서 단위 도형의 넓이나 부피가 변하게 되고 그것이 변환 행렬의 행렬식이 된다.  \n",
    "행렬식이 음수면 방향(Orientation)의 전환을 의미한다.  \n",
    "  \n",
    "행렬식의 계산은 다음과 같다.\n",
    "\n",
    "$$det\\begin{bmatrix} a & b \\\\ c & d  \\end{bmatrix} = ad-bc$$ \n",
    "\n",
    "\n",
    "즉, 행렬식이란 어떤 벡터에 선형 변환을 가했을 때의 방향과 스케일된 크기를 알려준다.\n",
    "\n",
    "$$det(AB)= det(A)det(B)$$\n",
    "\n",
    "위 식은 성립한다."
   ]
  },
  {
   "cell_type": "markdown",
   "metadata": {},
   "source": []
  },
  {
   "cell_type": "markdown",
   "metadata": {},
   "source": []
  }
 ],
 "metadata": {
  "language_info": {
   "name": "python"
  },
  "orig_nbformat": 4
 },
 "nbformat": 4,
 "nbformat_minor": 2
}
