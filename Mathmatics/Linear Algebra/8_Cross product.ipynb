{
 "cells": [
  {
   "cell_type": "markdown",
   "metadata": {},
   "source": [
    "# **Cross product**"
   ]
  },
  {
   "cell_type": "markdown",
   "metadata": {},
   "source": [
    "### **외적(Cross product)**\n",
    "두 벡터가 이루는 평행사변형의 넓이를 길이로 갖고, 그 면적에 수직한 벡터.\n",
    "오른손 법칙을 사용하여 첫번째 벡터의 방향을 검지, 두번째 벡터의 방향은 중지에 할당하면 엄지의 방향이 외적의 방향이다.\n",
    "\n",
    "$$\\begin{bmatrix} a \\\\ b \\end{bmatrix} ｘ \\begin{bmatrix} c \\\\ d\\end{bmatrix} =  det(\\begin{bmatrix} a & c \\\\ b & d\\end{bmatrix})$$ "
   ]
  },
  {
   "cell_type": "markdown",
   "metadata": {},
   "source": [
    "\n"
   ]
  }
 ],
 "metadata": {
  "interpreter": {
   "hash": "b2672bbf93573d62efb0a978994b8b68b20fbcabe2dfd191467b8d62c38546a6"
  },
  "kernelspec": {
   "display_name": "Python 3.9.7 ('curvyy')",
   "language": "python",
   "name": "python3"
  },
  "language_info": {
   "codemirror_mode": {
    "name": "ipython",
    "version": 3
   },
   "file_extension": ".py",
   "mimetype": "text/x-python",
   "name": "python",
   "nbconvert_exporter": "python",
   "pygments_lexer": "ipython3",
   "version": "3.9.7"
  },
  "orig_nbformat": 4
 },
 "nbformat": 4,
 "nbformat_minor": 2
}
