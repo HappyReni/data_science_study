{
 "cells": [
  {
   "cell_type": "markdown",
   "metadata": {},
   "source": [
    "# **Dot product**"
   ]
  },
  {
   "cell_type": "markdown",
   "metadata": {},
   "source": [
    "### **내적(Dot product)**\n",
    "한 벡터를 다른 벡터에 투영하여 그 투사체와 다른 벡터의 길이를 곱한 값.\n",
    "\n",
    "$$\\begin{bmatrix} a & b \\end{bmatrix} ㆍ\\begin{bmatrix} c \\\\ d\\end{bmatrix} =  ac + bd$$ "
   ]
  }
 ],
 "metadata": {
  "interpreter": {
   "hash": "b2672bbf93573d62efb0a978994b8b68b20fbcabe2dfd191467b8d62c38546a6"
  },
  "kernelspec": {
   "display_name": "Python 3.9.7 ('curvyy')",
   "language": "python",
   "name": "python3"
  },
  "language_info": {
   "codemirror_mode": {
    "name": "ipython",
    "version": 3
   },
   "file_extension": ".py",
   "mimetype": "text/x-python",
   "name": "python",
   "nbconvert_exporter": "python",
   "pygments_lexer": "ipython3",
   "version": "3.9.7"
  },
  "orig_nbformat": 4
 },
 "nbformat": 4,
 "nbformat_minor": 2
}
