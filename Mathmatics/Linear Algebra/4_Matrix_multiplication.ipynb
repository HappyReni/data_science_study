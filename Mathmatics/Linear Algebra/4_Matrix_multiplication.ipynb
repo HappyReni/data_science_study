{
 "cells": [
  {
   "cell_type": "markdown",
   "metadata": {},
   "source": [
    "# **Matrix multiplication**"
   ]
  },
  {
   "cell_type": "markdown",
   "metadata": {},
   "source": [
    "### **행렬의 곱셈**\n",
    "행렬의 곱은 연속된 선형 변환으로 이해할 수 있다.\n",
    "\n",
    "$$AB = \\begin{bmatrix} a & b \\\\ c & d  \\end{bmatrix}\\begin{bmatrix} e & f \\\\ g & h  \\end{bmatrix} = \\begin{bmatrix} ae+bg & af+bh \\\\ ce+dg & cf+dh \\end{bmatrix}$$ \n",
    "\n",
    "### **행렬의 결합법칙과 교환법칙**\n",
    "결합법칙(Associativity)\n",
    "\n",
    "$$A(BC) = (AB)C$$\n",
    "\n",
    "교환법칙 (Commutativity)\n",
    "$$AB \\neq BC$$"
   ]
  },
  {
   "cell_type": "markdown",
   "metadata": {},
   "source": []
  }
 ],
 "metadata": {
  "language_info": {
   "name": "python"
  },
  "orig_nbformat": 4
 },
 "nbformat": 4,
 "nbformat_minor": 2
}
