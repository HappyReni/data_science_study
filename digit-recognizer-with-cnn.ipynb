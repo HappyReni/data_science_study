{
 "cells": [
  {
   "cell_type": "code",
   "execution_count": 1,
   "id": "3817a7b8",
   "metadata": {
    "_cell_guid": "b1076dfc-b9ad-4769-8c92-a6c4dae69d19",
    "_uuid": "8f2839f25d086af736a60e9eeb907d3b93b6e0e5",
    "execution": {
     "iopub.execute_input": "2022-04-14T12:18:18.086157Z",
     "iopub.status.busy": "2022-04-14T12:18:18.085833Z",
     "iopub.status.idle": "2022-04-14T12:18:30.681895Z",
     "shell.execute_reply": "2022-04-14T12:18:30.681147Z"
    },
    "papermill": {
     "duration": 12.616284,
     "end_time": "2022-04-14T12:18:30.684411",
     "exception": false,
     "start_time": "2022-04-14T12:18:18.068127",
     "status": "completed"
    },
    "tags": []
   },
   "outputs": [
    {
     "name": "stdout",
     "output_type": "stream",
     "text": [
      "/kaggle/input/digit-recognizer/sample_submission.csv\n",
      "/kaggle/input/digit-recognizer/train.csv\n",
      "/kaggle/input/digit-recognizer/test.csv\n"
     ]
    }
   ],
   "source": [
    "# This Python 3 environment comes with many helpful analytics libraries installed\n",
    "# It is defined by the kaggle/python Docker image: https://github.com/kaggle/docker-python\n",
    "# For example, here's several helpful packages to load\n",
    "\n",
    "import numpy as np # linear algebra\n",
    "import pandas as pd # data processing, CSV file I/O (e.g. pd.read_csv)\n",
    "import tensorflow as tf\n",
    "from tensorflow import keras\n",
    "\n",
    "# Input data files are available in the read-only \"../input/\" directory\n",
    "# For example, running this (by clicking run or pressing Shift+Enter) will list all files under the input directory\n",
    "\n",
    "import os\n",
    "for dirname, _, filenames in os.walk('/kaggle/input'):\n",
    "    for filename in filenames:\n",
    "        print(os.path.join(dirname, filename))\n",
    "\n",
    "# You can write up to 20GB to the current directory (/kaggle/working/) that gets preserved as output when you create a version using \"Save & Run All\" \n",
    "# You can also write temporary files to /kaggle/temp/, but they won't be saved outside of the current session\n",
    "\n",
    "train = pd.read_csv('/kaggle/input/digit-recognizer/train.csv')\n",
    "test = pd.read_csv('/kaggle/input/digit-recognizer/test.csv')\n",
    "\n",
    "X_train = train.iloc[:,1:].to_numpy()\n",
    "y_train = train['label'].to_numpy()\n",
    "\n"
   ]
  },
  {
   "cell_type": "markdown",
   "id": "7b89d606",
   "metadata": {
    "papermill": {
     "duration": 0.014489,
     "end_time": "2022-04-14T12:18:30.714793",
     "exception": false,
     "start_time": "2022-04-14T12:18:30.700304",
     "status": "completed"
    },
    "tags": []
   },
   "source": [
    "## Check the test images"
   ]
  },
  {
   "cell_type": "code",
   "execution_count": 2,
   "id": "364514c3",
   "metadata": {
    "execution": {
     "iopub.execute_input": "2022-04-14T12:18:30.747007Z",
     "iopub.status.busy": "2022-04-14T12:18:30.746595Z",
     "iopub.status.idle": "2022-04-14T12:18:31.175960Z",
     "shell.execute_reply": "2022-04-14T12:18:31.174917Z"
    },
    "papermill": {
     "duration": 0.448783,
     "end_time": "2022-04-14T12:18:31.179095",
     "exception": false,
     "start_time": "2022-04-14T12:18:30.730312",
     "status": "completed"
    },
    "tags": []
   },
   "outputs": [
    {
     "data": {
      "image/png": "[encoded data removed]",
      "text/plain": [
       "<Figure size 1080x720 with 6 Axes>"
      ]
     },
     "metadata": {
      "needs_background": "light"
     },
     "output_type": "display_data"
    }
   ],
   "source": [
    "import matplotlib.pyplot as plt\n",
    "\n",
    "fig, ax = plt.subplots(2,3,figsize=(15,10))\n",
    "\n",
    "for i in range(2):\n",
    "    for j in range(3):\n",
    "        n = 3*i + j +1\n",
    "        ax[i][j].imshow(X_train[n].reshape(28,28),cmap='gray_r')\n",
    "        ax[i][j].set_title(y_train[n])\n",
    "        ax[i][j].axis('off')"
   ]
  },
  {
   "cell_type": "code",
   "execution_count": 3,
   "id": "929950d0",
   "metadata": {
    "execution": {
     "iopub.execute_input": "2022-04-14T12:18:31.212674Z",
     "iopub.status.busy": "2022-04-14T12:18:31.212415Z",
     "iopub.status.idle": "2022-04-14T12:18:31.218194Z",
     "shell.execute_reply": "2022-04-14T12:18:31.217107Z"
    },
    "papermill": {
     "duration": 0.025104,
     "end_time": "2022-04-14T12:18:31.220360",
     "exception": false,
     "start_time": "2022-04-14T12:18:31.195256",
     "status": "completed"
    },
    "tags": []
   },
   "outputs": [],
   "source": [
    "def one_hot(y):\n",
    "    n = y.shape[0]\n",
    "    en = np.zeros((n,10))\n",
    "    \n",
    "    for i in range(n):\n",
    "        k = int(y[i])\n",
    "        en[i][k] = 1\n",
    "    \n",
    "    return en"
   ]
  },
  {
   "cell_type": "code",
   "execution_count": 4,
   "id": "f3d7ae81",
   "metadata": {
    "execution": {
     "iopub.execute_input": "2022-04-14T12:18:31.254526Z",
     "iopub.status.busy": "2022-04-14T12:18:31.254249Z",
     "iopub.status.idle": "2022-04-14T12:18:32.618074Z",
     "shell.execute_reply": "2022-04-14T12:18:32.616894Z"
    },
    "papermill": {
     "duration": 1.384721,
     "end_time": "2022-04-14T12:18:32.621308",
     "exception": false,
     "start_time": "2022-04-14T12:18:31.236587",
     "status": "completed"
    },
    "tags": []
   },
   "outputs": [
    {
     "name": "stdout",
     "output_type": "stream",
     "text": [
      "[0. 1. 0. 0. 0. 0. 0. 0. 0. 0.]\n",
      "(8400, 28, 28, 1) (8400, 10)\n"
     ]
    }
   ],
   "source": [
    "from sklearn.model_selection import train_test_split\n",
    "\n",
    "number_of_classes = 10\n",
    "\n",
    "X_train = (X_train / 255.0).reshape(-1,28,28,1)\n",
    "y_train = one_hot(y_train)\n",
    "print(y_train[0])\n",
    "X_train,X_val,y_train,y_val = train_test_split(X_train,y_train,train_size=0.2,random_state=42)\n",
    "print(X_train.shape,y_train.shape)"
   ]
  },
  {
   "cell_type": "code",
   "execution_count": 5,
   "id": "418363af",
   "metadata": {
    "execution": {
     "iopub.execute_input": "2022-04-14T12:18:32.657475Z",
     "iopub.status.busy": "2022-04-14T12:18:32.656524Z",
     "iopub.status.idle": "2022-04-14T12:18:33.916357Z",
     "shell.execute_reply": "2022-04-14T12:18:33.915109Z"
    },
    "papermill": {
     "duration": 1.279687,
     "end_time": "2022-04-14T12:18:33.918369",
     "exception": false,
     "start_time": "2022-04-14T12:18:32.638682",
     "status": "completed"
    },
    "tags": []
   },
   "outputs": [
    {
     "name": "stdout",
     "output_type": "stream",
     "text": [
      "Model: \"sequential\"\n",
      "_________________________________________________________________\n",
      "Layer (type)                 Output Shape              Param #   \n",
      "=================================================================\n",
      "conv2d (Conv2D)              (None, 26, 26, 32)        320       \n",
      "_________________________________________________________________\n",
      "max_pooling2d (MaxPooling2D) (None, 13, 13, 32)        0         \n",
      "_________________________________________________________________\n",
      "flatten (Flatten)            (None, 5408)              0         \n",
      "_________________________________________________________________\n",
      "dense (Dense)                (None, 512)               2769408   \n",
      "_________________________________________________________________\n",
      "dense_1 (Dense)              (None, 128)               65664     \n",
      "_________________________________________________________________\n",
      "dense_2 (Dense)              (None, 10)                1290      \n",
      "=================================================================\n",
      "Total params: 2,836,682\n",
      "Trainable params: 2,836,682\n",
      "Non-trainable params: 0\n",
      "_________________________________________________________________\n"
     ]
    },
    {
     "name": "stderr",
     "output_type": "stream",
     "text": [
      "2022-04-14 12:18:33.804980: I tensorflow/core/common_runtime/process_util.cc:146] Creating new thread pool with default inter op setting: 2. Tune using inter_op_parallelism_threads for best performance.\n"
     ]
    }
   ],
   "source": [
    "model = tf.keras.Sequential([\n",
    "    tf.keras.layers.Conv2D(32,3,input_shape=(28,28,1)),\n",
    "    tf.keras.layers.MaxPooling2D(2,2),\n",
    "    tf.keras.layers.Flatten(input_shape=(28,28,1)),\n",
    "    tf.keras.layers.Dense(512,activation='relu'),\n",
    "    tf.keras.layers.Dense(128,activation='relu'),\n",
    "    tf.keras.layers.Dense(number_of_classes,activation='softmax')\n",
    "])\n",
    "\n",
    "model.summary()"
   ]
  },
  {
   "cell_type": "code",
   "execution_count": 6,
   "id": "c812b690",
   "metadata": {
    "execution": {
     "iopub.execute_input": "2022-04-14T12:18:33.954579Z",
     "iopub.status.busy": "2022-04-14T12:18:33.954305Z",
     "iopub.status.idle": "2022-04-14T12:19:59.653400Z",
     "shell.execute_reply": "2022-04-14T12:19:59.652428Z"
    },
    "papermill": {
     "duration": 85.719748,
     "end_time": "2022-04-14T12:19:59.655639",
     "exception": false,
     "start_time": "2022-04-14T12:18:33.935891",
     "status": "completed"
    },
    "tags": []
   },
   "outputs": [
    {
     "name": "stderr",
     "output_type": "stream",
     "text": [
      "2022-04-14 12:18:34.075742: I tensorflow/compiler/mlir/mlir_graph_optimization_pass.cc:185] None of the MLIR Optimization Passes are enabled (registered 2)\n"
     ]
    },
    {
     "name": "stdout",
     "output_type": "stream",
     "text": [
      "Epoch 1/10\n",
      "263/263 [==============================] - 10s 36ms/step - loss: 0.3775 - accuracy: 0.8877 - val_loss: 0.1876 - val_accuracy: 0.9417\n",
      "Epoch 2/10\n",
      "263/263 [==============================] - 8s 31ms/step - loss: 0.1362 - accuracy: 0.9588 - val_loss: 0.1629 - val_accuracy: 0.9486\n",
      "Epoch 3/10\n",
      "263/263 [==============================] - 8s 31ms/step - loss: 0.0641 - accuracy: 0.9796 - val_loss: 0.1338 - val_accuracy: 0.9590\n",
      "Epoch 4/10\n",
      "263/263 [==============================] - 8s 31ms/step - loss: 0.0291 - accuracy: 0.9911 - val_loss: 0.1804 - val_accuracy: 0.9518\n",
      "Epoch 5/10\n",
      "263/263 [==============================] - 9s 35ms/step - loss: 0.0194 - accuracy: 0.9943 - val_loss: 0.1802 - val_accuracy: 0.9539\n",
      "Epoch 6/10\n",
      "263/263 [==============================] - 8s 31ms/step - loss: 0.0185 - accuracy: 0.9944 - val_loss: 0.1694 - val_accuracy: 0.9605\n",
      "Epoch 7/10\n",
      "263/263 [==============================] - 8s 31ms/step - loss: 0.0327 - accuracy: 0.9892 - val_loss: 0.1688 - val_accuracy: 0.9574\n",
      "Epoch 8/10\n",
      "263/263 [==============================] - 8s 31ms/step - loss: 0.0150 - accuracy: 0.9950 - val_loss: 0.1663 - val_accuracy: 0.9623\n",
      "Epoch 9/10\n",
      "263/263 [==============================] - 9s 35ms/step - loss: 0.0177 - accuracy: 0.9942 - val_loss: 0.1770 - val_accuracy: 0.9610\n",
      "Epoch 10/10\n",
      "263/263 [==============================] - 8s 31ms/step - loss: 0.0105 - accuracy: 0.9968 - val_loss: 0.1663 - val_accuracy: 0.9640\n"
     ]
    }
   ],
   "source": [
    "from keras.callbacks import EarlyStopping\n",
    "\n",
    "model.compile(optimizer='adam',loss='categorical_crossentropy',metrics=['accuracy'])\n",
    "early_stopping = EarlyStopping(monitor='val_accuracy',min_delta=0,verbose=0,restore_best_weights = True,patience=3,mode='max')\n",
    "\n",
    "history = model.fit(X_train,y_train,epochs=10,verbose=1,validation_data=(X_val,y_val),callbacks=[early_stopping])"
   ]
  },
  {
   "cell_type": "markdown",
   "id": "a4fad125",
   "metadata": {
    "papermill": {
     "duration": 0.271198,
     "end_time": "2022-04-14T12:20:00.195444",
     "exception": false,
     "start_time": "2022-04-14T12:19:59.924246",
     "status": "completed"
    },
    "tags": []
   },
   "source": [
    "## Loss comparison"
   ]
  },
  {
   "cell_type": "code",
   "execution_count": 7,
   "id": "089ad5bd",
   "metadata": {
    "execution": {
     "iopub.execute_input": "2022-04-14T12:20:00.737784Z",
     "iopub.status.busy": "2022-04-14T12:20:00.737204Z",
     "iopub.status.idle": "2022-04-14T12:20:00.921867Z",
     "shell.execute_reply": "2022-04-14T12:20:00.920938Z"
    },
    "papermill": {
     "duration": 0.463613,
     "end_time": "2022-04-14T12:20:00.927692",
     "exception": false,
     "start_time": "2022-04-14T12:20:00.464079",
     "status": "completed"
    },
    "tags": []
   },
   "outputs": [
    {
     "data": {
      "text/plain": [
       "<matplotlib.legend.Legend at 0x7fef481f1b50>"
      ]
     },
     "execution_count": 7,
     "metadata": {},
     "output_type": "execute_result"
    },
    {
     "data": {
      "image/png": "[encoded data removed]",
      "text/plain": [
       "<Figure size 432x288 with 1 Axes>"
      ]
     },
     "metadata": {
      "needs_background": "light"
     },
     "output_type": "display_data"
    }
   ],
   "source": [
    "plt.plot(history.history['loss'],label='train_loss')\n",
    "plt.plot(history.history['val_loss'],label='val_loss')\n",
    "plt.xlabel('epoch')\n",
    "plt.ylabel('loss')\n",
    "plt.legend()"
   ]
  },
  {
   "cell_type": "markdown",
   "id": "a8ad6858",
   "metadata": {
    "papermill": {
     "duration": 0.271379,
     "end_time": "2022-04-14T12:20:01.470974",
     "exception": false,
     "start_time": "2022-04-14T12:20:01.199595",
     "status": "completed"
    },
    "tags": []
   },
   "source": [
    "## Accuracy comparison"
   ]
  },
  {
   "cell_type": "code",
   "execution_count": 8,
   "id": "f4ee5524",
   "metadata": {
    "execution": {
     "iopub.execute_input": "2022-04-14T12:20:02.010319Z",
     "iopub.status.busy": "2022-04-14T12:20:02.009798Z",
     "iopub.status.idle": "2022-04-14T12:20:02.220195Z",
     "shell.execute_reply": "2022-04-14T12:20:02.219471Z"
    },
    "papermill": {
     "duration": 0.480499,
     "end_time": "2022-04-14T12:20:02.222213",
     "exception": false,
     "start_time": "2022-04-14T12:20:01.741714",
     "status": "completed"
    },
    "tags": []
   },
   "outputs": [
    {
     "data": {
      "text/plain": [
       "<matplotlib.legend.Legend at 0x7fef669f9dd0>"
      ]
     },
     "execution_count": 8,
     "metadata": {},
     "output_type": "execute_result"
    },
    {
     "data": {
      "image/png": "[encoded data removed]",
      "text/plain": [
       "<Figure size 432x288 with 1 Axes>"
      ]
     },
     "metadata": {
      "needs_background": "light"
     },
     "output_type": "display_data"
    }
   ],
   "source": [
    "plt.plot(history.history['accuracy'],label='train_accuracy')\n",
    "plt.plot(history.history['val_accuracy'],label='val_accuracy')\n",
    "plt.xlabel('epoch')\n",
    "plt.ylabel('accuracy')\n",
    "plt.legend()"
   ]
  },
  {
   "cell_type": "markdown",
   "id": "f40affbb",
   "metadata": {
    "papermill": {
     "duration": 0.271355,
     "end_time": "2022-04-14T12:20:02.781318",
     "exception": false,
     "start_time": "2022-04-14T12:20:02.509963",
     "status": "completed"
    },
    "tags": []
   },
   "source": [
    "## Model Test & Prediction"
   ]
  },
  {
   "cell_type": "code",
   "execution_count": 9,
   "id": "a45a37da",
   "metadata": {
    "execution": {
     "iopub.execute_input": "2022-04-14T12:20:03.331177Z",
     "iopub.status.busy": "2022-04-14T12:20:03.330871Z",
     "iopub.status.idle": "2022-04-14T12:20:07.138523Z",
     "shell.execute_reply": "2022-04-14T12:20:07.137508Z"
    },
    "papermill": {
     "duration": 4.086249,
     "end_time": "2022-04-14T12:20:07.140789",
     "exception": false,
     "start_time": "2022-04-14T12:20:03.054540",
     "status": "completed"
    },
    "tags": []
   },
   "outputs": [
    {
     "data": {
      "text/plain": [
       "array([[8.50122139e-10, 1.89497220e-11, 1.00000000e+00, ...,\n",
       "        2.35506548e-09, 6.13448070e-10, 1.15263479e-10],\n",
       "       [1.00000000e+00, 1.07806602e-11, 1.44607060e-09, ...,\n",
       "        6.56177424e-09, 2.84990365e-11, 9.26311181e-11],\n",
       "       [1.19043330e-06, 1.19968931e-07, 1.00809411e-04, ...,\n",
       "        3.87354608e-04, 1.89835730e-03, 9.97150838e-01],\n",
       "       ...,\n",
       "       [3.00155658e-18, 2.87058492e-15, 7.94156754e-12, ...,\n",
       "        7.64355671e-15, 1.42300919e-11, 2.81969645e-14],\n",
       "       [1.27850255e-08, 2.66841172e-12, 6.33099545e-11, ...,\n",
       "        1.86278797e-08, 2.86575474e-08, 9.99998450e-01],\n",
       "       [8.45199299e-10, 4.98268815e-10, 9.99998450e-01, ...,\n",
       "        3.02259689e-10, 3.83573450e-07, 8.81141844e-08]], dtype=float32)"
      ]
     },
     "execution_count": 9,
     "metadata": {},
     "output_type": "execute_result"
    }
   ],
   "source": [
    "X_test = test.to_numpy()\n",
    "X_test = (X_test / 255.0).reshape(-1,28,28,1)\n",
    "\n",
    "\n",
    "pred = model.predict(X_test)\n",
    "pred"
   ]
  },
  {
   "cell_type": "code",
   "execution_count": 10,
   "id": "0a07d12e",
   "metadata": {
    "execution": {
     "iopub.execute_input": "2022-04-14T12:20:07.689174Z",
     "iopub.status.busy": "2022-04-14T12:20:07.688904Z",
     "iopub.status.idle": "2022-04-14T12:20:08.291394Z",
     "shell.execute_reply": "2022-04-14T12:20:08.290483Z"
    },
    "papermill": {
     "duration": 0.879614,
     "end_time": "2022-04-14T12:20:08.293509",
     "exception": false,
     "start_time": "2022-04-14T12:20:07.413895",
     "status": "completed"
    },
    "tags": []
   },
   "outputs": [
    {
     "data": {
      "image/png": "[encoded data removed]",
      "text/plain": [
       "<Figure size 1080x720 with 6 Axes>"
      ]
     },
     "metadata": {
      "needs_background": "light"
     },
     "output_type": "display_data"
    }
   ],
   "source": [
    "fig, ax = plt.subplots(2,3,figsize=(15,10))\n",
    "\n",
    "for i in range(2):\n",
    "    for j in range(3):\n",
    "        n = np.random.randint(X_test.shape[0])\n",
    "        ax[i][j].imshow(X_test[n].reshape(28,28),cmap='gray_r')\n",
    "        ax[i][j].set_title(pred.argmax(axis=1)[n])\n",
    "        ax[i][j].axis('off')"
   ]
  },
  {
   "cell_type": "code",
   "execution_count": null,
   "id": "6a85ae1e",
   "metadata": {
    "papermill": {
     "duration": 0.275961,
     "end_time": "2022-04-14T12:20:08.843962",
     "exception": false,
     "start_time": "2022-04-14T12:20:08.568001",
     "status": "completed"
    },
    "tags": []
   },
   "outputs": [],
   "source": []
  }
 ],
 "metadata": {
  "kernelspec": {
   "display_name": "Python 3",
   "language": "python",
   "name": "python3"
  },
  "language_info": {
   "codemirror_mode": {
    "name": "ipython",
    "version": 3
   },
   "file_extension": ".py",
   "mimetype": "text/x-python",
   "name": "python",
   "nbconvert_exporter": "python",
   "pygments_lexer": "ipython3",
   "version": "3.7.12"
  },
  "papermill": {
   "default_parameters": {},
   "duration": 124.815828,
   "end_time": "2022-04-14T12:20:12.599369",
   "environment_variables": {},
   "exception": null,
   "input_path": "__notebook__.ipynb",
   "output_path": "__notebook__.ipynb",
   "parameters": {},
   "start_time": "2022-04-14T12:18:07.783541",
   "version": "2.3.4"
  }
 },
 "nbformat": 4,
 "nbformat_minor": 5
}
